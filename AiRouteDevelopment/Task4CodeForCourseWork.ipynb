{
 "cells": [
  {
   "cell_type": "code",
   "execution_count": 13,
   "id": "ee9b74ca",
   "metadata": {},
   "outputs": [],
   "source": [
    "import numpy as np\n",
    "import random\n",
    "import matplotlib.pyplot as plt\n",
    "\n",
    "# The Parameters for Q-learning\n",
    "alpha = 0.1  # Learning rate\n",
    "gamma = 0.9  # Discount factor\n",
    "epsilon = 0.2  # Exploration rate\n",
    "num_episodes = 1000  # Total number of training episodes\n",
    "\n",
    "grid_size = 5  # Size of the grid world\n",
    "goal_position = (4, 4)  #  The goal position at (5, 5) in zero-indexed form\n",
    "obstacles = [(1, 1), (3, 3)]  # Obstacles at (2, 2) and (4, 4) in zero-indexed form\n",
    "\n",
    "# Define possible actions and their corresponding movements\n",
    "actions = ['up', 'down', 'left', 'right']\n",
    "action_map = {'up': (-1, 0), 'down': (1, 0), 'left': (0, -1), 'right': (0, 1)}\n",
    "\n",
    "# Initializing all the Q-table with zeros for all state-action pairs\n",
    "Q_table = np.zeros((grid_size, grid_size, len(actions)))\n",
    "\n",
    "# This function returns  the reward for a given position\n",
    "def get_reward(position):\n",
    "    if position == goal_position:\n",
    "        return 100  # High reward for reaching the goal\n",
    "    elif position in obstacles:\n",
    "        return -10  # Penalty for hitting an obstacle\n",
    "    else:\n",
    "        return 1  # Small positive reward for valid moves\n",
    "\n",
    "# This function checks if a position is within the grid boundaries\n",
    "def is_valid_position(position):\n",
    "    x, y = position\n",
    "    return 0 <= x < grid_size and 0 <= y < grid_size\n",
    "\n",
    "# Q-learning algorithm: This trains the agent over multiple episodes\n",
    "for episode in range(num_episodes):\n",
    "    state = (0, 0)  # Start position at the beginning of each episode\n",
    "    total_reward = 0\n",
    "    while state != goal_position:\n",
    "        # Choose an action using epsilon-greedy strategy\n",
    "        if random.uniform(0, 1) < epsilon:\n",
    "            action_index = random.choice(range(len(actions)))  # Explores: a random action\n",
    "        else:\n",
    "            action_index = np.argmax(Q_table[state])  # Exploits: the best known action\n",
    "        \n",
    "        action = actions[action_index]\n",
    "        new_state = (state[0] + action_map[action][0], state[1] + action_map[action][1])\n",
    "        \n",
    "        # Check if the new state is valid; if not, stay in the same state\n",
    "        if not is_valid_position(new_state):\n",
    "            new_state = state\n",
    "        \n",
    "        # Get the reward for the new state\n",
    "        reward = get_reward(new_state)\n",
    "        total_reward += reward\n",
    "        \n",
    "        # Update the Q-value using the Q-learning update rule\n",
    "        best_future_q = np.max(Q_table[new_state])\n",
    "        Q_table[state + (action_index,)] += alpha * (reward + gamma * best_future_q - Q_table[state + (action_index,)])\n",
    "        \n",
    "        # Move to the new state\n",
    "        state = new_state"
   ]
  },
  {
   "cell_type": "code",
   "execution_count": 14,
   "id": "b86feeb6",
   "metadata": {},
   "outputs": [
    {
     "name": "stdout",
     "output_type": "stream",
     "text": [
      "Learned Policy:\n",
      "[['right' 'right' 'right' 'down' 'left']\n",
      " ['up' 'X' 'up' 'down' 'up']\n",
      " ['up' 'left' 'right' 'down' 'left']\n",
      " ['up' 'up' 'right' 'X' 'up']\n",
      " ['up' 'up' 'up' 'right' 'G']]\n"
     ]
    },
    {
     "data": {
      "image/png": "[encoded data removed]",
      "text/plain": [
       "<Figure size 600x600 with 1 Axes>"
      ]
     },
     "metadata": {},
     "output_type": "display_data"
    }
   ],
   "source": [
    "# Visualizing the learned policy\n",
    "policy = np.full((grid_size, grid_size), '', dtype=object)\n",
    "for i in range(grid_size):\n",
    "    for j in range(grid_size):\n",
    "        best_action_index = np.argmax(Q_table[i, j])\n",
    "        policy[i, j] = actions[best_action_index]\n",
    "\n",
    "# Mark the goal and obstacles in the policy grid\n",
    "policy[goal_position] = 'G'\n",
    "for obs in obstacles:\n",
    "    policy[obs] = 'X'\n",
    "\n",
    "# Display the learned policy in the console\n",
    "print(\"Learned Policy:\")\n",
    "print(policy)\n",
    "\n",
    "# Plot the policy with x and y coordinates\n",
    "plt.figure(figsize=(6, 6))\n",
    "for i in range(grid_size):\n",
    "    for j in range(grid_size):\n",
    "        plt.text(j, grid_size - i - 1, policy[i, j], ha='center', va='center', fontsize=12)\n",
    "\n",
    "plt.xticks(np.arange(0, grid_size, 1), [f'{i+1}' for i in range(grid_size)])\n",
    "plt.yticks(np.arange(0, grid_size, 1), [f'{i+1}' for i in range(grid_size)])\n",
    "plt.grid(True, which='both', color='black', linewidth=0.5)\n",
    "plt.xlim(-0.5, grid_size - 0.5)\n",
    "plt.ylim(-0.5, grid_size - 0.5)\n",
    "plt.title(\"Learned Policy with Coordinates\")\n",
    "plt.gca().invert_yaxis()\n",
    "plt.show()"
   ]
  }
 ],
 "metadata": {
  "kernelspec": {
   "display_name": "Python 3",
   "language": "python",
   "name": "python3"
  },
  "language_info": {
   "codemirror_mode": {
    "name": "ipython",
    "version": 3
   },
   "file_extension": ".py",
   "mimetype": "text/x-python",
   "name": "python",
   "nbconvert_exporter": "python",
   "pygments_lexer": "ipython3",
   "version": "3.13.0"
  }
 },
 "nbformat": 4,
 "nbformat_minor": 5
}
